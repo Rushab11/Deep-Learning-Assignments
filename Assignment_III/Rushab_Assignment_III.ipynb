{
  "nbformat": 4,
  "nbformat_minor": 0,
  "metadata": {
    "colab": {
      "provenance": [],
      "gpuType": "T4"
    },
    "kernelspec": {
      "name": "python3",
      "display_name": "Python 3"
    },
    "language_info": {
      "name": "python"
    },
    "accelerator": "GPU"
  },
  "cells": [
    {
      "cell_type": "markdown",
      "source": [
        "# Gradient Descent and its Variants"
      ],
      "metadata": {
        "id": "VmYsBMg0FKgC"
      }
    },
    {
      "cell_type": "markdown",
      "source": [
        "**Performing gradient descent in regression** <br>\n",
        "The equation of a simple linear regression can be expressed as follows: <br>\n",
        "$$y_{hat} = mx + b$$"
      ],
      "metadata": {
        "id": "FLo1BiZCGsG7"
      }
    },
    {
      "cell_type": "code",
      "execution_count": 11,
      "metadata": {
        "id": "Mk7g5bLjExnn"
      },
      "outputs": [],
      "source": [
        "import random\n",
        "import math\n",
        "import numpy as np\n",
        "from matplotlib import pyplot as plt\n",
        "%matplotlib inline"
      ]
    },
    {
      "cell_type": "code",
      "source": [
        "#Preparing the Dataset\n",
        "data = np.random.randn(500,2) #generate random data points with 500 rows and 2 column (x and y)"
      ],
      "metadata": {
        "id": "UGJimX3fHbPg"
      },
      "execution_count": 21,
      "outputs": []
    },
    {
      "cell_type": "code",
      "source": [
        "print(data[0]) #first column indicates x value and second column represents y value"
      ],
      "metadata": {
        "colab": {
          "base_uri": "https://localhost:8080/",
          "height": 0
        },
        "id": "e3B_MNAiI5Zt",
        "outputId": "59f8f02a-43a6-4723-9cec-f010bdaf47df"
      },
      "execution_count": 22,
      "outputs": [
        {
          "output_type": "stream",
          "name": "stdout",
          "text": [
            "[-0.05371103  0.01748245]\n"
          ]
        }
      ]
    },
    {
      "cell_type": "markdown",
      "source": [
        "Since, there are two parameters *m* and **b**, we store these parametersin an array called *theta*."
      ],
      "metadata": {
        "id": "sAuhblJDJKOQ"
      }
    },
    {
      "cell_type": "code",
      "source": [
        "theta = np.zeros(2) #At first, we initialize the value of theta with zeros"
      ],
      "metadata": {
        "id": "ZkG6t2uAI7Dm"
      },
      "execution_count": 14,
      "outputs": []
    },
    {
      "cell_type": "markdown",
      "source": [
        "theta[0] is *m* and theta[1] is b."
      ],
      "metadata": {
        "id": "dpJT1dQLJhkW"
      }
    },
    {
      "cell_type": "code",
      "source": [
        "print(theta)"
      ],
      "metadata": {
        "colab": {
          "base_uri": "https://localhost:8080/",
          "height": 0
        },
        "id": "hN0RMTDRJfSK",
        "outputId": "5b0cb993-ee2f-431b-adbf-1b2088ca02b2"
      },
      "execution_count": 15,
      "outputs": [
        {
          "output_type": "stream",
          "name": "stdout",
          "text": [
            "[0. 0.]\n"
          ]
        }
      ]
    },
    {
      "cell_type": "markdown",
      "source": [
        "**Defining the loss function**"
      ],
      "metadata": {
        "id": "MUFSAaxCOqGD"
      }
    },
    {
      "cell_type": "code",
      "source": [
        "def loss_function(data,theta):\n",
        "  m = theta[0]\n",
        "  b = theta[1]\n",
        "\n",
        "  loss = 0\n",
        "  for i in range(0, len(data)):\n",
        "    x = data[i,0]\n",
        "    y = data[i,1]\n",
        "    y_hat = (m*x + b)\n",
        "\n",
        "    loss = loss + ((y - (y_hat)) ** 2)\n",
        "  mse = loss / float(len(data))\n",
        "  return mse"
      ],
      "metadata": {
        "id": "yG89Iv-AJhBP"
      },
      "execution_count": 26,
      "outputs": []
    },
    {
      "cell_type": "code",
      "source": [
        "loss_function(data,theta) #we need to minimize this loss"
      ],
      "metadata": {
        "colab": {
          "base_uri": "https://localhost:8080/",
          "height": 0
        },
        "id": "brNiwKGfPrNO",
        "outputId": "574b4ea2-aae8-468c-80e8-c11dd185dc5a"
      },
      "execution_count": 27,
      "outputs": [
        {
          "output_type": "execute_result",
          "data": {
            "text/plain": [
              "0.9529319622910829"
            ]
          },
          "metadata": {},
          "execution_count": 27
        }
      ]
    },
    {
      "cell_type": "markdown",
      "source": [
        "# Computing the gradients of the loss function"
      ],
      "metadata": {
        "id": "k5efHVjXQJGu"
      }
    },
    {
      "cell_type": "code",
      "source": [
        "def compute_gradients(data,theta):\n",
        "  gradients = np.zeros(2)\n",
        "  N = float(len(data))\n",
        "  m = theta[0]\n",
        "  b = theta[1]\n",
        "  for i in range(0,len(data)):\n",
        "    x = data[i,0]\n",
        "    y = data[i,1]\n",
        "    gradients[0] += - (2 / N) * x * (y - (( m* x) + b)) #gradient of the loss with respect to m\n",
        "    gradients[1] += - (2 / N) * (y - ((theta[0] * x) + b)) #gradient of the loss with respect to b\n",
        "\n",
        "  epsilon = 1e-6 #to avoid division by zero error\n",
        "  gradients = np.divide(gradients, N + epsilon)\n",
        "\n",
        "  return gradients"
      ],
      "metadata": {
        "id": "PCLGN58hPwSr"
      },
      "execution_count": 28,
      "outputs": []
    },
    {
      "cell_type": "code",
      "source": [
        "compute_gradients(data,theta)"
      ],
      "metadata": {
        "colab": {
          "base_uri": "https://localhost:8080/",
          "height": 0
        },
        "id": "AKQxZ-lURXzo",
        "outputId": "acdf3607-d763-4b7b-c139-cff3ecd11b32"
      },
      "execution_count": 29,
      "outputs": [
        {
          "output_type": "execute_result",
          "data": {
            "text/plain": [
              "array([0.00028265, 0.00025373])"
            ]
          },
          "metadata": {},
          "execution_count": 29
        }
      ]
    },
    {
      "cell_type": "markdown",
      "source": [
        "# Updating the model parameters"
      ],
      "metadata": {
        "id": "xel68gP8ReGs"
      }
    },
    {
      "cell_type": "code",
      "source": [
        "num_iterations = 50000\n",
        "lr = 1e-2\n",
        "loss = []\n",
        "\n",
        "for t in range(num_iterations):\n",
        "  gradients = compute_gradients(data,theta)\n",
        "\n",
        "  theta = theta - (lr * gradients)\n",
        "\n",
        "  #store the loss\n",
        "  loss.append(loss_function(data,theta))\n",
        "\n",
        "plt.plot(loss)\n",
        "plt.grid()\n",
        "plt.xlabel('Training Iterations')\n",
        "plt.ylabel('Cost')\n",
        "plt.title('Gradient Descent')"
      ],
      "metadata": {
        "colab": {
          "base_uri": "https://localhost:8080/",
          "height": 490
        },
        "id": "SXS1WcJNRakg",
        "outputId": "11547640-0f63-4252-8a83-a6275833471e"
      },
      "execution_count": 30,
      "outputs": [
        {
          "output_type": "execute_result",
          "data": {
            "text/plain": [
              "Text(0.5, 1.0, 'Gradient Descent')"
            ]
          },
          "metadata": {},
          "execution_count": 30
        },
        {
          "output_type": "display_data",
          "data": {
            "text/plain": [
              "<Figure size 640x480 with 1 Axes>"
            ],
            "image/png": "[encoded data removed]"
          },
          "metadata": {}
        }
      ]
    },
    {
      "cell_type": "code",
      "source": [
        "#Minibatch gradient descent\n",
        "def minibatch(data,theta,lr=1e-2,minibatch_ratio=0.01,num_iterations=1000):\n",
        "  minibatch_size = int(math.ceil(len(data) * minibatch_ratio))\n",
        "\n",
        "  for t in range(num_iterations):\n",
        "    sample_size = random.sample(range(len(data)), minibatch_size)\n",
        "    np.random.shuffle(data)\n",
        "    sample_data = data[0:sample_size[0],:]\n",
        "    grad = compute_gradients(sample_data, theta)\n",
        "    theta = theta - (lr * grad)\n",
        "  return theta\n",
        "\n",
        "minibatch(data,theta)\n"
      ],
      "metadata": {
        "colab": {
          "base_uri": "https://localhost:8080/",
          "height": 0
        },
        "id": "kg9Wgq2MSEgm",
        "outputId": "1b474c77-5ee2-4d4d-df82-c2441d6f2c74"
      },
      "execution_count": 31,
      "outputs": [
        {
          "output_type": "execute_result",
          "data": {
            "text/plain": [
              "array([-0.02147169, -0.02386217])"
            ]
          },
          "metadata": {},
          "execution_count": 31
        }
      ]
    },
    {
      "cell_type": "markdown",
      "source": [
        "# Momentum based gradient descent"
      ],
      "metadata": {
        "id": "MCvoyAyKXRRZ"
      }
    },
    {
      "cell_type": "code",
      "source": [
        "def momentum(data, theta, lr = 1e-2, gamma = 0.9, num_iterations = 1000):\n",
        "  vt = np.zeros(theta.shape[0])\n",
        "  for t in range(num_iterations):\n",
        "    gradients = compute_gradients(data, theta)\n",
        "    vt = gamma * vt + lr * gradients\n",
        "    theta = theta - vt\n",
        "  return theta\n",
        "momentum(data, theta)"
      ],
      "metadata": {
        "colab": {
          "base_uri": "https://localhost:8080/",
          "height": 0
        },
        "id": "Cn_jhP9tWoG0",
        "outputId": "d7dd51f8-5a18-4108-a56b-5aadc6d49b88"
      },
      "execution_count": 32,
      "outputs": [
        {
          "output_type": "execute_result",
          "data": {
            "text/plain": [
              "array([-0.06466263, -0.0581522 ])"
            ]
          },
          "metadata": {},
          "execution_count": 32
        }
      ]
    },
    {
      "cell_type": "markdown",
      "source": [
        "# Nesterov accelerated gradient"
      ],
      "metadata": {
        "id": "iVpYc1dzYBAv"
      }
    },
    {
      "cell_type": "code",
      "source": [
        "def NAG(data, theta, lr = 1e-2, gamma = 0.9, num_iterations = 1000):\n",
        "  vt = np.zeros(theta.shape[0])\n",
        "  for t in range(num_iterations):\n",
        "    gradients = compute_gradients(data, theta - gamma * vt)\n",
        "    vt = gamma * vt + lr * gradients\n",
        "    theta = theta - vt\n",
        "  return theta\n",
        "\n",
        "NAG(data, theta)"
      ],
      "metadata": {
        "colab": {
          "base_uri": "https://localhost:8080/",
          "height": 0
        },
        "id": "ekXVi-GEYAsO",
        "outputId": "5cf2a00f-b36e-4232-98c0-a5949cf2b042"
      },
      "execution_count": 33,
      "outputs": [
        {
          "output_type": "execute_result",
          "data": {
            "text/plain": [
              "array([-0.06466172, -0.05815139])"
            ]
          },
          "metadata": {},
          "execution_count": 33
        }
      ]
    },
    {
      "cell_type": "markdown",
      "source": [
        "# AdaGrad(Adaptive Gradient Descent )"
      ],
      "metadata": {
        "id": "lF3rLysVaUr_"
      }
    },
    {
      "cell_type": "code",
      "source": [
        "def AdaGrad(data, theta, lr = 1e-2, epsilon = 1e-8, num_iterations = 10000):\n",
        "  gradients_sum = np.zeros(theta.shape[0])\n",
        "  for t in range(num_iterations):\n",
        "    gradients = compute_gradients(data, theta)\n",
        "    gradients_sum += gradients ** 2\n",
        "    gradient_update = gradients / (np.sqrt(gradients_sum + epsilon))\n",
        "    theta = theta - (lr * gradient_update)\n",
        "  return theta\n",
        "AdaGrad(data, theta)"
      ],
      "metadata": {
        "colab": {
          "base_uri": "https://localhost:8080/",
          "height": 0
        },
        "id": "eC8gpk7dYhy2",
        "outputId": "671d026f-e7d5-4a34-8231-9dfe7a449ff7"
      },
      "execution_count": 34,
      "outputs": [
        {
          "output_type": "execute_result",
          "data": {
            "text/plain": [
              "array([-0.07098648, -0.06357815])"
            ]
          },
          "metadata": {},
          "execution_count": 34
        }
      ]
    },
    {
      "cell_type": "code",
      "source": [
        "def AdaDelta(data, theta, gamma = 0.9, epsilon = 1e-5, num_iterations = 1000):\n",
        "  E_grad2 = np.zeros(theta.shape[0])\n",
        "  E_delta_theta2 = np.zeros(theta.shape[0])\n",
        "  for t in range(num_iterations):\n",
        "    gradients = compute_gradients(data, theta)\n",
        "    E_grad2 = (gamma * E_grad2) + ((1. - gamma) * (gradients ** 2))\n",
        "    delta_theta = - (np.sqrt(E_delta_theta2 + epsilon)) / (np.sqrt(E_grad2 +epsilon)) * gradients\n",
        "    E_delta_theta2 = (gamma * E_delta_theta2) + ((1. - gamma) * (delta_theta **2))\n",
        "    theta = theta + delta_theta\n",
        "  return theta\n",
        "\n",
        "AdaDelta(data, theta)"
      ],
      "metadata": {
        "colab": {
          "base_uri": "https://localhost:8080/",
          "height": 0
        },
        "id": "EUhKfIo9aZyn",
        "outputId": "286e33d4-a8af-4d41-9a24-bc2747819c28"
      },
      "execution_count": 35,
      "outputs": [
        {
          "output_type": "execute_result",
          "data": {
            "text/plain": [
              "array([-0.07081787, -0.06344104])"
            ]
          },
          "metadata": {},
          "execution_count": 35
        }
      ]
    },
    {
      "cell_type": "code",
      "source": [
        "def RMSProp(data, theta, lr = 1e-2, gamma = 0.9, epsilon = 1e-6, num_iterations =1000):\n",
        "  E_grad2 = np.zeros(theta.shape[0])\n",
        "  for t in range(num_iterations):\n",
        "    gradients = compute_gradients(data, theta)\n",
        "    E_grad2 = (gamma * E_grad2) + ((1. - gamma) * (gradients ** 2))\n",
        "    theta = theta - (lr / (np.sqrt(E_grad2 + epsilon)) * gradients)\n",
        "  return theta\n",
        "\n",
        "RMSProp(data, theta)"
      ],
      "metadata": {
        "colab": {
          "base_uri": "https://localhost:8080/",
          "height": 0
        },
        "id": "wWkEyuZkajRC",
        "outputId": "610cd45a-0dc8-4c13-be5c-d63c08fd585a"
      },
      "execution_count": 36,
      "outputs": [
        {
          "output_type": "execute_result",
          "data": {
            "text/plain": [
              "array([-0.07098648, -0.06357815])"
            ]
          },
          "metadata": {},
          "execution_count": 36
        }
      ]
    },
    {
      "cell_type": "markdown",
      "source": [
        "# ADAM optimizer(Adaptive moment Estimation )"
      ],
      "metadata": {
        "id": "pzJSe7nta2y8"
      }
    },
    {
      "cell_type": "code",
      "source": [
        "def Adam(data, theta, lr=1e-2, beta1=0.9, beta2=0.999, epsilon=1e-8, num_iterations=1000):\n",
        "    mt = np.zeros(theta.shape[0])\n",
        "    vt = np.zeros(theta.shape[0])\n",
        "    for t in range(num_iterations):\n",
        "        gradients = compute_gradients(data, theta)\n",
        "        mt = beta1 * mt + (1.0 - beta1) * gradients\n",
        "        vt = beta2 * vt + (1.0 - beta2) * (gradients ** 2)\n",
        "        mt_hat = mt / (1.0 - beta1 ** (t + 1))\n",
        "        vt_hat = vt / (1.0 - beta2 ** (t + 1))\n",
        "        theta = theta - (lr / (np.sqrt(vt_hat) + epsilon)) * mt_hat\n",
        "    return theta\n",
        "Adam(data, theta)"
      ],
      "metadata": {
        "colab": {
          "base_uri": "https://localhost:8080/",
          "height": 0
        },
        "id": "Lfn8WYf-alQK",
        "outputId": "d11bc554-dbaa-4fe4-d764-3890c44d7f7a"
      },
      "execution_count": 37,
      "outputs": [
        {
          "output_type": "execute_result",
          "data": {
            "text/plain": [
              "array([-0.07098648, -0.06357815])"
            ]
          },
          "metadata": {},
          "execution_count": 37
        }
      ]
    },
    {
      "cell_type": "code",
      "source": [
        "# Adamax - Adam based on infinity norm\n",
        "def Adamax(data, theta, lr = 1e-2, beta1 = 0.9, beta2 = 0.999, epsilon = 1e-6, num_iterations = 1000):\n",
        "    mt = np.zeros(theta.shape[0])\n",
        "    vt = np.zeros(theta.shape[0])\n",
        "    for t in range(num_iterations):\n",
        "        gradients = compute_gradients(data, theta)\n",
        "        mt = beta1 * mt + (1. - beta1) * gradients\n",
        "        vt = np.maximum(beta2 * vt, np.abs(gradients))\n",
        "        mt_hat = mt / (1. - beta1 ** (t+1))\n",
        "        theta = theta - ((lr / (vt + epsilon)) * mt_hat)\n",
        "    return theta\n",
        "\n",
        "Adamax(data, theta)"
      ],
      "metadata": {
        "colab": {
          "base_uri": "https://localhost:8080/",
          "height": 0
        },
        "id": "krB8F6WDa4sk",
        "outputId": "f6389163-8f47-4c53-d139-4cc7304f24c9"
      },
      "execution_count": 38,
      "outputs": [
        {
          "output_type": "execute_result",
          "data": {
            "text/plain": [
              "array([-0.07098648, -0.06357815])"
            ]
          },
          "metadata": {},
          "execution_count": 38
        }
      ]
    },
    {
      "cell_type": "code",
      "source": [
        "# Adaptive moment estimation with AMSGrad\n",
        "def AMSGrad(data, theta, lr = 1e-2, beta1 = 0.9, beta2 = 0.9, epsilon = 1e-6, num_iterations = 1000):\n",
        "    mt = np.zeros(theta.shape[0])\n",
        "    vt = np.zeros(theta.shape[0])\n",
        "    vt_hat = np.zeros(theta.shape[0])\n",
        "    for t in range(num_iterations):\n",
        "        mt = beta1 * mt + (1. - beta1) * gradients\n",
        "        vt = beta2 * vt + (1. - beta2) * gradients ** 2\n",
        "        vt_hat = np.maximum(vt_hat,vt)\n",
        "        mt_hat = mt / (1. - beta1 ** (t+1))\n",
        "        theta = theta - (lr / (np.sqrt(vt_hat) + epsilon)) * mt_hat\n",
        "    return theta\n",
        "\n",
        "AMSGrad(data, theta)"
      ],
      "metadata": {
        "colab": {
          "base_uri": "https://localhost:8080/",
          "height": 0
        },
        "id": "xwDDKybda7It",
        "outputId": "633b7ed0-fca2-4e51-f487-feaff6d9d85a"
      },
      "execution_count": 39,
      "outputs": [
        {
          "output_type": "execute_result",
          "data": {
            "text/plain": [
              "array([-9.88913054, -9.84635718])"
            ]
          },
          "metadata": {},
          "execution_count": 39
        }
      ]
    },
    {
      "cell_type": "code",
      "source": [
        "# Nadam - adding NAG to ADAM\n",
        "def nadam(data, theta, lr = 1e-2, beta1 = 0.9, beta2 = 0.999, epsilon = 1e-6, num_iterations = 500):\n",
        "    mt = np.zeros(theta.shape[0])\n",
        "    vt = np.zeros(theta.shape[0])\n",
        "    beta_prod = 1\n",
        "    for t in range(num_iterations):\n",
        "        gradients = compute_gradients(data, theta)\n",
        "        mt = beta1 * mt + (1. - beta1) * gradients\n",
        "        vt = beta2 * vt + (1. - beta2) * gradients ** 2\n",
        "        beta_prod = beta_prod * (beta1)\n",
        "        mt_hat = mt / (1. - beta_prod)\n",
        "        g_hat = gradients / (1. - beta_prod)\n",
        "        vt_hat = vt / (1. - beta2 ** (t))\n",
        "        mt_tilde = (1-beta1**t+1) * mt_hat + ((beta1**t)* g_hat)\n",
        "        theta = theta - (lr / (np.sqrt(vt_hat) + epsilon)) * mt_hat\n",
        "    return theta\n",
        "\n",
        "nadam(data, theta)"
      ],
      "metadata": {
        "colab": {
          "base_uri": "https://localhost:8080/",
          "height": 0
        },
        "id": "p4PBN304a8lR",
        "outputId": "9a395660-42c2-4e56-9824-3d6afa74240c"
      },
      "execution_count": 41,
      "outputs": [
        {
          "output_type": "stream",
          "name": "stderr",
          "text": [
            "<ipython-input-41-9e55de9e823b>:13: RuntimeWarning: divide by zero encountered in divide\n",
            "  vt_hat = vt / (1. - beta2 ** (t))\n"
          ]
        },
        {
          "output_type": "execute_result",
          "data": {
            "text/plain": [
              "array([-0.07098648, -0.06357815])"
            ]
          },
          "metadata": {},
          "execution_count": 41
        }
      ]
    }
  ]
}