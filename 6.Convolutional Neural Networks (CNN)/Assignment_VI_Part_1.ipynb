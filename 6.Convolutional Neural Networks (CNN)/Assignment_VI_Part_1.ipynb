{
  "nbformat": 4,
  "nbformat_minor": 0,
  "metadata": {
    "colab": {
      "provenance": [],
      "gpuType": "T4"
    },
    "kernelspec": {
      "name": "python3",
      "display_name": "Python 3"
    },
    "language_info": {
      "name": "python"
    },
    "accelerator": "GPU"
  },
  "cells": [
    {
      "cell_type": "markdown",
      "source": [
        "# Implementing CNN in Tensorflow"
      ],
      "metadata": {
        "id": "ez-CY0PAMCTx"
      }
    },
    {
      "cell_type": "code",
      "execution_count": 15,
      "metadata": {
        "id": "Wd6w7P3pH2hk"
      },
      "outputs": [],
      "source": [
        "import pandas as pd\n",
        "import numpy as np\n",
        "\n",
        "import matplotlib.pyplot as plt\n",
        "\n",
        "import keras\n",
        "from keras.models import Sequential\n",
        "from keras.layers import Conv2D, Lambda, MaxPooling2D # convolution layers\n",
        "from keras.layers import Dense, Dropout, Flatten # core layers\n",
        "from keras.layers import BatchNormalization\n",
        "import tensorflow as tf\n",
        "\n",
        "from tensorflow.keras.datasets import mnist\n",
        "\n",
        "from keras.preprocessing.image import ImageDataGenerator\n",
        "\n",
        "from keras.utils import to_categorical"
      ]
    },
    {
      "cell_type": "code",
      "source": [
        "(train_images, train_labels), (test_images, test_labels) = mnist.load_data() #Load the MNIST dataset"
      ],
      "metadata": {
        "colab": {
          "base_uri": "https://localhost:8080/"
        },
        "id": "lB3lN_SzLZxg",
        "outputId": "88bdc3a7-b0a9-41be-f698-98f8eb0736e6"
      },
      "execution_count": 3,
      "outputs": [
        {
          "output_type": "stream",
          "name": "stdout",
          "text": [
            "Downloading data from https://storage.googleapis.com/tensorflow/tf-keras-datasets/mnist.npz\n",
            "11490434/11490434 [==============================] - 0s 0us/step\n"
          ]
        }
      ]
    },
    {
      "cell_type": "code",
      "source": [
        "plt.imshow(train_images[0])"
      ],
      "metadata": {
        "colab": {
          "base_uri": "https://localhost:8080/",
          "height": 448
        },
        "id": "pGBlATZRM9VU",
        "outputId": "16a55998-542e-4de0-de74-18ed3bbc46a4"
      },
      "execution_count": 4,
      "outputs": [
        {
          "output_type": "execute_result",
          "data": {
            "text/plain": [
              "<matplotlib.image.AxesImage at 0x7d8e0a32e0b0>"
            ]
          },
          "metadata": {},
          "execution_count": 4
        },
        {
          "output_type": "display_data",
          "data": {
            "text/plain": [
              "<Figure size 640x480 with 1 Axes>"
            ],
            "image/png": "[encoded data removed]"
          },
          "metadata": {}
        }
      ]
    },
    {
      "cell_type": "code",
      "source": [
        "# Normalization\n",
        "train_images = train_images / 255.0\n",
        "test_images = test_images / 255.0"
      ],
      "metadata": {
        "id": "FCntEpTaMalC"
      },
      "execution_count": 5,
      "outputs": []
    },
    {
      "cell_type": "code",
      "source": [
        "'''Reshape image in 3 dimensions\n",
        "height: 28px\n",
        "width: 28px\n",
        "channel: 1 (grayscale)\n",
        "'''\n",
        "train_images = train_images.reshape(-1, 28, 28, 1)\n",
        "test_images = test_images.reshape(-1, 28, 28, 1)"
      ],
      "metadata": {
        "id": "n86QOZ6rNXMI"
      },
      "execution_count": 6,
      "outputs": []
    },
    {
      "cell_type": "code",
      "source": [
        "#One hot encoding of labels\n",
        "train_labels = to_categorical(train_labels)\n",
        "test_labels = to_categorical(test_labels)\n",
        "#eg: 3 = [0,0,0,1,0,0,0,0,0]\n",
        "print(train_labels.shape)"
      ],
      "metadata": {
        "colab": {
          "base_uri": "https://localhost:8080/"
        },
        "id": "GYXTDzBXNe5W",
        "outputId": "b524b5f1-35fd-47ee-c3e0-6325e9bfb8d4"
      },
      "execution_count": 7,
      "outputs": [
        {
          "output_type": "stream",
          "name": "stdout",
          "text": [
            "(60000, 10)\n"
          ]
        }
      ]
    },
    {
      "cell_type": "code",
      "source": [
        "mean = np.mean(train_images)\n",
        "std = np.std(train_images)\n",
        "\n",
        "'''transforms the data to have a mean of 0 and a standard deviation of 1.\n",
        "This process is often necessary because it ensures that all features have the same scale,\n",
        "which can be important for some algorithms to perform effectively.'''\n",
        "def standardize(x): #z-score normalization\n",
        "  return (x-mean)/std"
      ],
      "metadata": {
        "id": "UkH9opNgOBmN"
      },
      "execution_count": 8,
      "outputs": []
    },
    {
      "cell_type": "markdown",
      "source": [
        "# Defining the model"
      ],
      "metadata": {
        "id": "4szpB5HBOr9D"
      }
    },
    {
      "cell_type": "code",
      "source": [
        "model=Sequential()\n",
        "\n",
        "model.add(Conv2D(filters=64, kernel_size = (3,3), activation=\"relu\", input_shape=(28,28,1)))\n",
        "model.add(Conv2D(filters=64, kernel_size = (3,3), activation=\"relu\"))\n",
        "model.add(MaxPooling2D(pool_size=(2,2)))\n",
        "model.add(BatchNormalization())\n",
        "\n",
        "model.add(Conv2D(filters=128, kernel_size = (3,3), activation=\"relu\"))\n",
        "model.add(Conv2D(filters=128, kernel_size = (3,3), activation=\"relu\"))\n",
        "model.add(MaxPooling2D(pool_size=(2,2)))\n",
        "model.add(BatchNormalization())\n",
        "\n",
        "model.add(Conv2D(filters=256, kernel_size = (3,3), activation=\"relu\"))\n",
        "model.add(MaxPooling2D(pool_size=(2,2)))\n",
        "model.add(BatchNormalization())\n",
        "\n",
        "model.add(Flatten())\n",
        "model.add(Dense(512,activation=\"relu\"))\n",
        "\n",
        "model.add(Dense(10,activation=\"softmax\"))\n",
        "\n",
        "model.compile(loss=\"categorical_crossentropy\", optimizer=\"adam\", metrics=[\"accuracy\"])\n"
      ],
      "metadata": {
        "id": "ncZAquHrOSUu"
      },
      "execution_count": 9,
      "outputs": []
    },
    {
      "cell_type": "code",
      "source": [
        "epochs = 10\n",
        "batch_size = 128\n",
        "train_steps = train_images.shape[0] // batch_size\n",
        "valid_steps = test_images.shape[0] // batch_size\n",
        "\n",
        "#EarlyStopping prevents overfitting by stopping training when the model's performance on the validation set begins to degrade\n",
        "es = keras.callbacks.EarlyStopping(\n",
        "        monitor=\"val_accuracy\", # metrics to monitor\n",
        "        patience=10, # how many epochs before stop\n",
        "        verbose=1,\n",
        "        mode=\"max\", # maximizing validation accuracy in our case\n",
        "        restore_best_weights=True,\n",
        "     )\n",
        "\n",
        "#ReduceLROnPlateau adjusts the learning rate when the model's performance plateaus, allowing the model to converge more effectively.\n",
        "rp = keras.callbacks.ReduceLROnPlateau(\n",
        "        monitor=\"val_accuracy\",\n",
        "        factor=0.2,\n",
        "        patience=3,\n",
        "        verbose=1,\n",
        "        mode=\"max\",\n",
        "        min_lr=0.00001,\n",
        "     )"
      ],
      "metadata": {
        "id": "F6JizbeuO20m"
      },
      "execution_count": 10,
      "outputs": []
    },
    {
      "cell_type": "code",
      "source": [
        "history = model.fit(train_images, train_labels, batch_size=batch_size, validation_split=0.2, epochs=10, callbacks=[es, rp])"
      ],
      "metadata": {
        "colab": {
          "base_uri": "https://localhost:8080/"
        },
        "id": "xGYa7hqNO76n",
        "outputId": "e69604c3-a1e7-42f1-d4e6-d3796f192652"
      },
      "execution_count": 11,
      "outputs": [
        {
          "output_type": "stream",
          "name": "stdout",
          "text": [
            "Epoch 1/10\n",
            "375/375 [==============================] - 19s 15ms/step - loss: 0.0879 - accuracy: 0.9728 - val_loss: 2.3560 - val_accuracy: 0.2984 - lr: 0.0010\n",
            "Epoch 2/10\n",
            "375/375 [==============================] - 5s 14ms/step - loss: 0.0364 - accuracy: 0.9889 - val_loss: 0.0417 - val_accuracy: 0.9878 - lr: 0.0010\n",
            "Epoch 3/10\n",
            "375/375 [==============================] - 5s 13ms/step - loss: 0.0230 - accuracy: 0.9928 - val_loss: 0.0720 - val_accuracy: 0.9816 - lr: 0.0010\n",
            "Epoch 4/10\n",
            "375/375 [==============================] - 5s 13ms/step - loss: 0.0188 - accuracy: 0.9939 - val_loss: 0.0981 - val_accuracy: 0.9728 - lr: 0.0010\n",
            "Epoch 5/10\n",
            "371/375 [============================>.] - ETA: 0s - loss: 0.0152 - accuracy: 0.9949\n",
            "Epoch 5: ReduceLROnPlateau reducing learning rate to 0.00020000000949949026.\n",
            "375/375 [==============================] - 5s 14ms/step - loss: 0.0152 - accuracy: 0.9949 - val_loss: 0.0612 - val_accuracy: 0.9843 - lr: 0.0010\n",
            "Epoch 6/10\n",
            "375/375 [==============================] - 5s 14ms/step - loss: 0.0048 - accuracy: 0.9983 - val_loss: 0.0219 - val_accuracy: 0.9943 - lr: 2.0000e-04\n",
            "Epoch 7/10\n",
            "375/375 [==============================] - 5s 14ms/step - loss: 0.0017 - accuracy: 0.9996 - val_loss: 0.0226 - val_accuracy: 0.9940 - lr: 2.0000e-04\n",
            "Epoch 8/10\n",
            "375/375 [==============================] - 5s 14ms/step - loss: 8.8963e-04 - accuracy: 0.9998 - val_loss: 0.0221 - val_accuracy: 0.9942 - lr: 2.0000e-04\n",
            "Epoch 9/10\n",
            "375/375 [==============================] - ETA: 0s - loss: 6.6234e-04 - accuracy: 1.0000\n",
            "Epoch 9: ReduceLROnPlateau reducing learning rate to 4.0000001899898055e-05.\n",
            "375/375 [==============================] - 6s 15ms/step - loss: 6.6234e-04 - accuracy: 1.0000 - val_loss: 0.0217 - val_accuracy: 0.9943 - lr: 2.0000e-04\n",
            "Epoch 10/10\n",
            "375/375 [==============================] - 5s 13ms/step - loss: 4.1193e-04 - accuracy: 1.0000 - val_loss: 0.0219 - val_accuracy: 0.9940 - lr: 4.0000e-05\n"
          ]
        }
      ]
    },
    {
      "cell_type": "markdown",
      "source": [
        "# Evaluate the model"
      ],
      "metadata": {
        "id": "Zg93np705riH"
      }
    },
    {
      "cell_type": "code",
      "source": [
        "test_loss, test_acc = model.evaluate(test_images, test_labels, verbose=1)"
      ],
      "metadata": {
        "id": "N-sJPGXQPnvT",
        "colab": {
          "base_uri": "https://localhost:8080/"
        },
        "outputId": "495300fe-201d-42c5-d4e3-8d2aa423a68e"
      },
      "execution_count": 12,
      "outputs": [
        {
          "output_type": "stream",
          "name": "stdout",
          "text": [
            "313/313 [==============================] - 1s 3ms/step - loss: 0.0184 - accuracy: 0.9950\n"
          ]
        }
      ]
    },
    {
      "cell_type": "code",
      "source": [
        "print(f\"Test accuracy {test_acc}\\nTest loss {test_loss}\")"
      ],
      "metadata": {
        "colab": {
          "base_uri": "https://localhost:8080/"
        },
        "id": "cjdxJ0IO5x0z",
        "outputId": "deba1d42-da9b-4058-bbd7-9374f29c6ca7"
      },
      "execution_count": 13,
      "outputs": [
        {
          "output_type": "stream",
          "name": "stdout",
          "text": [
            "Test accuracy 0.9950000047683716\n",
            "Test loss 0.018386192619800568\n"
          ]
        }
      ]
    },
    {
      "cell_type": "code",
      "source": [
        "fig, ax = plt.subplots(2,1, figsize=(18, 10))\n",
        "ax[0].plot(history.history['loss'], color='b', label=\"Training loss\")\n",
        "ax[0].plot(history.history['val_loss'], color='r', label=\"validation loss\",axes =ax[0])\n",
        "legend = ax[0].legend(loc='best', shadow=True)\n",
        "\n",
        "ax[1].plot(history.history['accuracy'], color='b', label=\"Training accuracy\")\n",
        "ax[1].plot(history.history['val_accuracy'], color='r',label=\"Validation accuracy\")\n",
        "legend = ax[1].legend(loc='best', shadow=True)"
      ],
      "metadata": {
        "colab": {
          "base_uri": "https://localhost:8080/",
          "height": 830
        },
        "id": "PJy-m4bs6byd",
        "outputId": "6e227f69-8ef4-4a07-c875-92238830f09a"
      },
      "execution_count": 14,
      "outputs": [
        {
          "output_type": "display_data",
          "data": {
            "text/plain": [
              "<Figure size 1800x1000 with 2 Axes>"
            ],
            "image/png": "[encoded data removed]"
          },
          "metadata": {}
        }
      ]
    },
    {
      "cell_type": "code",
      "source": [],
      "metadata": {
        "id": "dm6n_O-D6fY2"
      },
      "execution_count": null,
      "outputs": []
    }
  ]
}