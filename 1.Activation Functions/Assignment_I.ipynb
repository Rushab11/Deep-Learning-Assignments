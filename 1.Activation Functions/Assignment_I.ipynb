{
 "cells": [
  {
   "cell_type": "markdown",
   "id": "cc32fb0c-68a2-4e3d-800b-26caa8d5a66f",
   "metadata": {},
   "source": [
    "# Activation Functions\n",
    " - used to introduce non-linearity in the networks.\n",
    "\n",
    "We apply the activation function to the input, which is multiplied by weights and added to the bias, that is, <br>\n",
    "$f(z)$, where $z$ = _(input * weights) + bias_ and $f(.)$ is the activation function. <br>\n",
    "\n",
    "If activation function is not applied, then the neuron resembles the linear regression.\n",
    "\n",
    "Some of the most commonly used activation functions are:\n",
    "*** "
   ]
  },
  {
   "cell_type": "markdown",
   "id": "3bc49349-aa9b-4471-a8e2-12b9b448e750",
   "metadata": {},
   "source": [
    "## The Sigmoid Function\n",
    "It scales the value between 0 and 1. <br>\n",
    "Mathematically, $$ f(x) = \\frac{1}{1 + e^{-x}}$$\n",
    "\n",
    "It is an S-shaped curve which is centered on 0.5.\n",
    "\n",
    "It is also known as a __logistic__ function. As we know that probability lies between 0 and 1 and since the sigmoid function squashes the value between 0 and 1, it is used to predict the probability of the output."
   ]
  },
  {
   "cell_type": "code",
   "execution_count": 152,
   "id": "44cb6f07-d888-4612-a166-de061c6bde6a",
   "metadata": {},
   "outputs": [],
   "source": [
    "import numpy as np\n",
    "\n",
    "def sigmoid(x):\n",
    "    return 1 / (1 + np.exp(-x))"
   ]
  },
  {
   "cell_type": "markdown",
   "id": "5359c4d1-e3b9-4e3a-bcf1-f0290a4b5263",
   "metadata": {},
   "source": [
    "## The Tanh function\n",
    "A __hyperbolic tangent (tanh)__ function outputs the value between -1 to +1.\n",
    "\n",
    "Mathematically, $$ f(x) = \\frac{1 - e^{-2x}}{1 + e^{-2x}}$$\n",
    "\n",
    "It also resembles the S-shaped curve. Unlike sigmoid function which is centered on 0.5, the tanh function is 0 centered."
   ]
  },
  {
   "cell_type": "code",
   "execution_count": 153,
   "id": "29153d23-9fed-4e99-acea-bc33ab99dce4",
   "metadata": {},
   "outputs": [],
   "source": [
    "def tanh(x):\n",
    "    numerator = 1 - np.exp(-2*x)\n",
    "    denominator = 1 + np.exp(-2*x)\n",
    "    return numerator/denominator"
   ]
  },
  {
   "cell_type": "markdown",
   "id": "32641b69-de92-4b01-b572-a3301fcd5c9f",
   "metadata": {},
   "source": [
    "## ReLU (Rectified Linear Unit) Function\n",
    "\n",
    "The ReLU function, short for Rectified Linear Unit, is a commonly used activation function in neural networks. It is defined as:\n",
    "\n",
    "$$f(x) = max(0, x)$$\n",
    "\n",
    "where:\n",
    "- $f(x)$ is the output of the ReLU function for input \\( x \\).\n",
    "- $x$ is the input value.\n",
    "\n",
    "In other words, the ReLU function returns the input value \\( x \\) if it is greater than or equal to zero, and returns zero otherwise."
   ]
  },
  {
   "cell_type": "code",
   "execution_count": 154,
   "id": "f58a71e8-06af-4fba-90f0-44769ec61dc8",
   "metadata": {},
   "outputs": [],
   "source": [
    "def ReLU(x):\n",
    "    if x<0:\n",
    "        return 0\n",
    "    return x"
   ]
  },
  {
   "cell_type": "markdown",
   "id": "8589ebe5-5946-4cd9-887a-005dbf7a0f6b",
   "metadata": {},
   "source": [
    "## The Leaky ReLU function\n",
    "The Leaky ReLU (Rectified Linear Unit) is a variant of the ReLU activation function that addresses the \"dying ReLU\" problem by allowing a small gradient when the unit is not active. It is defined as:\n",
    "\n",
    "$$f(x) = \\begin{cases}\n",
    "x, & \\text{if } x \\geq 0 \\\\\n",
    "\\alpha x, & \\text{otherwise}\n",
    "\\end{cases}$$\n",
    "\n",
    "where:\n",
    "- $f(x)$ is the output of the Leaky ReLU function for input \\( x \\).\n",
    "- $x$ is the input value.\n",
    "- $\\alpha$ is a small positive constant (typically a small fraction like 0.01) that determines the slope of the function for \\( x < 0 \\).\n",
    "\n",
    "Instead of setting some default values of $\\alpha$, we can send them as a parameter to a neural network and make the network learn the optimal value of $\\alpha$. Such activation function can be termed as a __Parametric ReLU function__.\n",
    "\n",
    "The Leaky ReLU function retains the positive values of the input as it is, but for negative values, it introduces a slight slope to avoid completely \"killing\" the gradient during training (dying ReLU problem).\n",
    "\n",
    "Graphically, the Leaky ReLU function is similar to the ReLU function, but it has a small slope for negative values, allowing some gradient flow for those inputs."
   ]
  },
  {
   "cell_type": "code",
   "execution_count": 155,
   "id": "da8f8777-b80a-4184-953a-8f4b29e7180f",
   "metadata": {},
   "outputs": [],
   "source": [
    "def leakyReLU(x, alpha=0.01):\n",
    "    if x < 0:\n",
    "        return alpha*x\n",
    "    return x"
   ]
  },
  {
   "cell_type": "markdown",
   "id": "b0f83199-8a42-4339-8a63-f7b2c477beee",
   "metadata": {},
   "source": [
    "## The Exponential linear unit function\n",
    "__Exponential Linear unit (ELU)__,like Leaky ReLU, has a small slope for negative values. But instead of having a straight line, it has a log curve.<br>\n",
    "$$f(x) = \\begin{cases}\n",
    "x, & \\text{if } x \\geq 0 \\\\\n",
    "\\alpha \\cdot (e^x - 1), & \\text{otherwise}\n",
    "\\end{cases} $$\n",
    "\n",
    "where:\n",
    "- \\( f(x) \\) is the output of the ELU function for input \\( x \\).\n",
    "- \\( x \\) is the input value.\n",
    "- $\\alpha$ is a positive constant that determines the slope of the function for \\( x < 0 \\). Typically, $\\alpha$ is set to a small positive value, such as 0.01.\n",
    "\n",
    "The ELU function keeps positive values unchanged, similar to the ReLU function. For negative values, it has a smooth curve with an exponential growth, ensuring a non-zero gradient even for negative inputs.\n",
    "\n",
    "Graphically, the ELU function behaves similarly to the ReLU function for positive values and introduces a smooth curve for negative values, preventing the \"dying ReLU\" issue while maintaining the benefits of activation functions like ReLU."
   ]
  },
  {
   "cell_type": "code",
   "execution_count": 156,
   "id": "5f4b2748-adcd-4cac-b29c-1efc747f21c8",
   "metadata": {},
   "outputs": [],
   "source": [
    "def ELU(x,alpha=0.01):\n",
    "    if x < 0:\n",
    "        return (alpha * (np.exp(x) - 1))\n",
    "    return x"
   ]
  },
  {
   "cell_type": "markdown",
   "id": "4e838aea-9432-490e-83da-57f343fead79",
   "metadata": {},
   "source": [
    "## The Swish function\n",
    "The __Swish__ function is a recently introduced activation function by Google. Unlike other activation functions, which are monotonic, Swish is a non-monotonic function, which means it is neither always non-increasing or non-decreasing.<br>\n",
    "It provides better performance than ReLU.\n",
    "\n",
    "$$ f(x) = x \\cdot \\sigma(x) $$\n",
    "\n",
    "It can be reparametrized as:\n",
    "$$ f(x) = 2x \\cdot \\sigma(\\beta x) $$\n",
    "\n",
    "where:\n",
    "- \\( f(x) \\) is the output of the Swish function for input \\( x \\).\n",
    "- \\( x \\) is the input value.\n",
    "- $\\sigma(\\cdot)$ is the sigmoid function, which is defined as $ \\sigma(x) = \\frac{1}{1 + e^{-x}} $.\n",
    "- $ \\beta $ is a hyperparameter that determines the slope of the function.\n",
    "\n",
    "When $\\beta = 0 $, the Swish function simplifies to $ f(x) = x $, and as $ \\beta $ increases, the function becomes $2 max(0,x) $, which is basically the ReLU function multiplied by some constant value. So, the value of $ \\beta $ acts as a good interpolation between a linear and a non-linear function."
   ]
  },
  {
   "cell_type": "code",
   "execution_count": 157,
   "id": "0e9a193f-37ed-4795-b00a-fa01b4d7b21a",
   "metadata": {},
   "outputs": [],
   "source": [
    "def swish(x,beta):\n",
    "    return 2*x*sigmoid(beta*x)"
   ]
  },
  {
   "cell_type": "markdown",
   "id": "080c19b9-22bc-4e7f-bfbd-fdfaf52e3f3d",
   "metadata": {},
   "source": [
    "## The Softmax function\n",
    "The __softmax function__ is the generalization of the sigmoid function. It is usually applied to the final layer of the network. It converts a vector of raw scores into a probability distribution over multiple classes.\n",
    "\n",
    "Given a vector $ \\mathbf{z} = (z_1, z_2, \\ldots, z_n) $ of raw scores, the softmax function computes the probability $ p_i $ of class $ i $ as:\n",
    "\n",
    "$$ p_i = \\frac{e^{z_i}}{\\sum_{j=1}^{n} e^{z_j}} $$\n",
    "\n",
    "where:\n",
    "- $ p_i $ is the probability of class $ i $.\n",
    "- $ z_i $ is the raw score for class $ i $.\n",
    "- The denominator represents the sum of exponentiated raw scores over all classes, ensuring that the probabilities sum to 1.\n",
    "\n",
    "The softmax function's output interprets the raw scores as probabilities, indicating the likelihood of each class. The class with the highest probability is often selected as the predicted class.\n",
    "\n",
    "The softmax function is used in the final layer of a neural network during multiclass classification, where it transforms the raw scores into a probability distribution that can be used to make predictions.\n",
    "\n",
    "It's important to note that the softmax function can sometimes exaggerate differences between scores, leading to potential issues with vanishing gradients or making the model sensitive to small input variations."
   ]
  },
  {
   "cell_type": "code",
   "execution_count": 158,
   "id": "61e52215-2840-4139-883f-644f08d7650d",
   "metadata": {},
   "outputs": [],
   "source": [
    "def softmax(x):\n",
    "    return np.exp(x) / np.exp(x).sum(axis=0)"
   ]
  },
  {
   "cell_type": "markdown",
   "id": "24b8f5f2-6537-4465-93e8-5a05644d9fe1",
   "metadata": {},
   "source": [
    "# Forward Propagation in ANN\n",
    "\n",
    "In a two-layer neural network with an input layer and a single neuron in the output layer, the forward propagation process can be described mathematically as follows:\n",
    "\n",
    "1. **Input Layer**: We have two inputs, $x_1$ and $x_2$. Since we have two inputs, the number of neurons in the input layer will be two.\n",
    "\n",
    "2. **Hidden Layer (Single Neuron)**:\n",
    "   We set the number of neurons in the hidden layer to four. Now the inputs will be multiplied by their weights, and then we add bias and  propagate the result value to the hidden layer where the activation function will be applied.<br>\n",
    "\n",
    "   Before that, we need to initialize the weight matrix. Since we do not know which input is more important than other, we randomly initialize the weights and bias value. The weight and bias value between the input to the hidden layer are represented by $W_{xh} and b_{h} $ respectively. The dimension of the weight matrix must be the **_number of neurons in the current layer x number of neurons in the next layer_** (basic matrix multiplication rule).<br>\n",
    "   \n",
    "   So, $$ z_1 = XW_{xh} + b_h $$ <br>\n",
    "\n",
    "   Now, this is passed to the hidden layer. In hidden layer, we apply an activation function to $z_1$ (sigmoid activation function).\n",
    "   $$ a_1 = \\sigma(z_1) $$\n",
    "\n",
    "   We again multiply result $a_1$ by a new weight matrix and add a new bias value that is flowing between the hidden layer and the output layer. We denote this weight matrix and bias as $W_{hy} and b_{y}$, respectively. The dimension of the weight matrix, $W_{hy}$, will be the *__number of neurons in the hidden layer x number of neurons in the output layer__*. So, we multiply $a_1$ by the weight matrix and add bias $b_y$ and pass the result to the output layer.\n",
    "   $$ z_2 = a_1W_{hy} + b_y $$\n",
    "   \n",
    "   - Weighted Sum Calculation:\n",
    "     $ z = \\sum_{i=1}^{n} (w_i \\cdot x_i) + b $\n",
    "     - $ w_i $ are the weights associated with each input $ x_i $.\n",
    "     - $ b $ is the bias term.\n",
    "   - Applying Activation Function:\n",
    "     $ a = f(z) $\n",
    "     - $ f(\\cdot) $ represents the chosen activation function.\n",
    "\n",
    "\n",
    "4. **Output Layer (Single Neuron)**:\n",
    "   Now in the output layer, we apply sigmoid function to $z_2$ which will result an output value $y$ <br>\n",
    "   $$ y = \\sigma(z_2) $$\n",
    "\n",
    "   This whole process from the input layer to the output layer is known as __forward propagation__.\n",
    "   - Weighted Sum Calculation:\n",
    "     $ z_{\\text{output}} = w_{\\text{output}} \\cdot a + b_{\\text{output}} $\n",
    "     - $ w_{\\text{output}} $ is the weight associated with the hidden layer's output $ a $.\n",
    "     - $ b_{\\text{output}} $ is the bias term.\n",
    "   - Applying Activation Function (e.g., softmax for classification):\n",
    "     $ \\text{output} = \\text{activation\\_function}(z_{\\text{output}}) $\n"
   ]
  },
  {
   "cell_type": "code",
   "execution_count": 159,
   "id": "aba0a3a3-3028-4f22-b96a-6c8a3b395fbc",
   "metadata": {},
   "outputs": [],
   "source": [
    "def forward_prop(X,Wxh,Why):\n",
    "    z1 = np.dot(X,Wxh) + bh\n",
    "    a1 = sigmoid(z1)\n",
    "    z2 = np.dot(a1,Why) + by\n",
    "    y_hat = sigmoid(z2)\n",
    "    return z1,a1,z2,y_hat"
   ]
  },
  {
   "cell_type": "markdown",
   "id": "4caccd3f-a407-4455-852f-b7e5753c4437",
   "metadata": {},
   "source": [
    "# How does ANN learn?\n",
    "In forward propagation, the network is just trying to predict the output. We define a __cost function(J)__ or __a loss function (L)__ which tells us how well our neural network is predicting. If the cost or loss is very high, the network is not predicting correct output. So, our objective is to minimize the cost function so that our neural network predictions will be better. We cannot change the input values, we are only left with weights and bias values. At first, we initialized these values randomly which means they are not perfect. Now, we update these weight matrices in such a way that our neural network gives a correct output. To update these weight matrices, we use a technique called __gradient descent__. <br>\n",
    "\n",
    "This whole process of backpropagating the network from the output layer tothe input layer and updating the weights of the network using gradient descent to minimize the loss is called __backpropagation__. <br>\n",
    "\n",
    "We are using mean squared error as a __cost function (J)__. Mathematically, \n",
    "$$J = \\frac{1}{n} \\sum_{i=1}^{n} (y_i - \\hat{y}_i)^2 $$\n"
   ]
  },
  {
   "cell_type": "code",
   "execution_count": 160,
   "id": "feafbefd-2dfa-4d1d-90a7-ebc377cecc99",
   "metadata": {},
   "outputs": [],
   "source": [
    "def backward_prop(y_hat, z1, a1, z2):\n",
    "    delta2 = np.multiply(-(y-y_hat),sigmoid_derivative(z2))\n",
    "    dJ_dWhy = np.dot(a1.T, delta2)\n",
    "    delta1 = np.dot(delta2,Why.T)*sigmoid_derivative(z1)\n",
    "    dJ_dWxh = np.dot(x.T, delta1)\n",
    "    return dJ_dWxh, dJ_dWhy"
   ]
  },
  {
   "cell_type": "markdown",
   "id": "3a24977e-449c-4019-a6b8-17ccd48a6713",
   "metadata": {},
   "source": [
    "# Building a neural network from scratch\n",
    "We build the network that learns to perform the XOR gate operation. The XOR gate returns 1 only when exactly only one of its inputs is 1, else it returns 0.\n",
    "To perform the XOR gate operation, we build a simple two-layer neural network that has input layer with two nodes: a hidden layer with 5 nodes and an output layer with 1 node."
   ]
  },
  {
   "cell_type": "code",
   "execution_count": 161,
   "id": "f1b7bf32-a5a7-4802-bb50-7bb2d14a9578",
   "metadata": {},
   "outputs": [],
   "source": [
    "import matplotlib.pyplot as plt"
   ]
  },
  {
   "cell_type": "markdown",
   "id": "0fc8c7fb-3e21-4f99-b897-9a7d024c0eb0",
   "metadata": {},
   "source": [
    "### Preparing the data (XOR table)"
   ]
  },
  {
   "cell_type": "code",
   "execution_count": 162,
   "id": "e24c189d-54f8-4a86-82d5-62f490391680",
   "metadata": {},
   "outputs": [],
   "source": [
    "x = np.array([[0,0],[0,1],[1,0],[1,1]])\n",
    "y = np.array([[0],[1],[1],[0]])"
   ]
  },
  {
   "cell_type": "markdown",
   "id": "3e96d73d-ab40-4834-9cfd-72fc7e66192c",
   "metadata": {},
   "source": [
    "### Defining the number of nodes in each layer"
   ]
  },
  {
   "cell_type": "code",
   "execution_count": 163,
   "id": "2e8fb808-7eee-4b54-8182-10daa4397400",
   "metadata": {},
   "outputs": [],
   "source": [
    "num_input = 2\n",
    "num_hidden = 5\n",
    "num_output = 1"
   ]
  },
  {
   "cell_type": "markdown",
   "id": "34506f9c-3662-4421-889f-b3528666a8e2",
   "metadata": {},
   "source": [
    "### Initializing the weights and biases randomly"
   ]
  },
  {
   "cell_type": "code",
   "execution_count": 164,
   "id": "b0945b0f-f9ff-4b52-be95-35e481758ad6",
   "metadata": {},
   "outputs": [],
   "source": [
    "#Input layer to hidden layer weights\n",
    "Wxh = np.random.randn(num_input,num_hidden)\n",
    "bh = np.zeros((1,num_hidden))\n",
    "\n",
    "#Hidden layer to output layer\n",
    "Why = np.random.randn(num_hidden,num_output)\n",
    "by = np.zeros((1,num_output))"
   ]
  },
  {
   "cell_type": "markdown",
   "id": "200d0de1-7d62-4dda-8f98-1a6ae4e09b1b",
   "metadata": {},
   "source": [
    "### Define the derivative of sigmoid function"
   ]
  },
  {
   "cell_type": "code",
   "execution_count": 165,
   "id": "02898bc5-6385-45ea-8c6b-5229a9d79c35",
   "metadata": {},
   "outputs": [],
   "source": [
    "def sigmoid_derivative(z):\n",
    "    return np.exp(-z)/((1+np.exp(-z))**2)"
   ]
  },
  {
   "cell_type": "markdown",
   "id": "d8b45eac-d6ec-407d-95db-90b6382397fc",
   "metadata": {},
   "source": [
    "### Define the cost function"
   ]
  },
  {
   "cell_type": "code",
   "execution_count": 166,
   "id": "70f457ce-f1dc-4baf-a8ae-40414afbe5f9",
   "metadata": {},
   "outputs": [],
   "source": [
    "def cost_function(y,y_hat):\n",
    "    J = 0.5*sum((y-y_hat)**2)\n",
    "    return J"
   ]
  },
  {
   "cell_type": "markdown",
   "id": "3fbdf712-f311-4365-8d60-49f44cce0450",
   "metadata": {},
   "source": [
    "### Set the learning rate and the number of training iterations"
   ]
  },
  {
   "cell_type": "code",
   "execution_count": 167,
   "id": "e4f62d12-242f-46af-bc9e-d5dff6327948",
   "metadata": {},
   "outputs": [],
   "source": [
    "alpha = 0.01\n",
    "num_iterations = 5000"
   ]
  },
  {
   "cell_type": "markdown",
   "id": "6538cbc1-53c0-4db8-a1ee-dce385a39b6b",
   "metadata": {},
   "source": [
    "### Start Training"
   ]
  },
  {
   "cell_type": "code",
   "execution_count": 168,
   "id": "9b3dc25b-370a-4c3e-9038-0c990862513b",
   "metadata": {},
   "outputs": [],
   "source": [
    "cost = []\n",
    "for i in range(num_iterations):\n",
    "    z1,a1,z2,y_hat = forward_prop(x,Wxh,Why)\n",
    "    dJ_dWxh, dJ_dWhy = backward_prop(y_hat, z1, a1, z2)\n",
    "    \n",
    "    #update weights\n",
    "    Wxh = Wxh - alpha * dJ_dWxh\n",
    "    Why = Why - alpha * dJ_dWhy\n",
    "    \n",
    "    #compute cost\n",
    "    c = cost_function(y,y_hat)\n",
    "    \n",
    "    cost.append(c)"
   ]
  },
  {
   "cell_type": "markdown",
   "id": "a467df2d-515a-478d-9d66-4b53d7400b40",
   "metadata": {},
   "source": [
    "### Plot the cost function"
   ]
  },
  {
   "cell_type": "code",
   "execution_count": 169,
   "id": "42ffb2a4-ff2a-4d45-a3be-72cf271fbdb2",
   "metadata": {},
   "outputs": [
    {
     "data": {
      "text/plain": [
       "Text(0, 0.5, 'Cost')"
      ]
     },
     "execution_count": 169,
     "metadata": {},
     "output_type": "execute_result"
    },
    {
     "data": {
      "image/png": "[encoded data removed]",
      "text/plain": [
       "<Figure size 640x480 with 1 Axes>"
      ]
     },
     "metadata": {},
     "output_type": "display_data"
    }
   ],
   "source": [
    "plt.grid()\n",
    "plt.plot(range(num_iterations),cost)\n",
    "plt.title('Cost Function')\n",
    "plt.xlabel('Training Iterations')\n",
    "plt.ylabel('Cost')"
   ]
  },
  {
   "cell_type": "code",
   "execution_count": null,
   "id": "52d6c136-8313-4b60-9809-b0acda212387",
   "metadata": {},
   "outputs": [],
   "source": []
  }
 ],
 "metadata": {
  "kernelspec": {
   "display_name": "Poetry",
   "language": "python",
   "name": "poetry-kernel"
  },
  "language_info": {
   "codemirror_mode": {
    "name": "ipython",
    "version": 3
   },
   "file_extension": ".py",
   "mimetype": "text/x-python",
   "name": "python",
   "nbconvert_exporter": "python",
   "pygments_lexer": "ipython3",
   "version": "3.11.3"
  }
 },
 "nbformat": 4,
 "nbformat_minor": 5
}
